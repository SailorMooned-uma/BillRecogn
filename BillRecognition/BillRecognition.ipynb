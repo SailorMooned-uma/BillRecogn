{
 "cells": [
  {
   "cell_type": "code",
   "execution_count": 26,
   "metadata": {
    "collapsed": true
   },
   "outputs": [],
   "source": [
    "import os\n",
    "import cv2\n",
    "\n",
    "# create an empty dictionary to hold the image data\n",
    "bills = {'MX020':[],'MX050':[],'MX100':[],'MX200':[],'MX500':[]}\n",
    "\n",
    "target_size = (224, 224)\n",
    "# load the image data into the dictionary\n",
    "for filename in os.listdir('billetes'):\n",
    "    for bill in bills:\n",
    "        if bill in filename:\n",
    "            img = cv2.imread(os.path.join('billetes',filename))\n",
    "            img = cv2.resize(img, target_size)\n",
    "            if img is not None:\n",
    "                bills[bill].append(img)\n"
   ]
  },
  {
   "cell_type": "code",
   "execution_count": 27,
   "outputs": [
    {
     "name": "stderr",
     "output_type": "stream",
     "text": [
      "C:\\Users\\angel\\AppData\\Local\\Temp\\ipykernel_18904\\4164461632.py:12: DeprecationWarning: `np.int` is a deprecated alias for the builtin `int`. To silence this warning, use `int` by itself. Doing this will not modify any behavior and is safe. When replacing `np.int`, you may wish to use e.g. `np.int64` or `np.int32` to specify the precision. If you wish to review your current use, check the release note link for additional information.\n",
      "Deprecated in NumPy 1.20; for more details and guidance: https://numpy.org/devdocs/release/1.20.0-notes.html#deprecations\n",
      "  y_020 = np.zeros(X_020.shape[0], dtype=np.int)\n",
      "C:\\Users\\angel\\AppData\\Local\\Temp\\ipykernel_18904\\4164461632.py:13: DeprecationWarning: `np.int` is a deprecated alias for the builtin `int`. To silence this warning, use `int` by itself. Doing this will not modify any behavior and is safe. When replacing `np.int`, you may wish to use e.g. `np.int64` or `np.int32` to specify the precision. If you wish to review your current use, check the release note link for additional information.\n",
      "Deprecated in NumPy 1.20; for more details and guidance: https://numpy.org/devdocs/release/1.20.0-notes.html#deprecations\n",
      "  y_050 = np.ones(X_050.shape[0], dtype=np.int)\n",
      "C:\\Users\\angel\\AppData\\Local\\Temp\\ipykernel_18904\\4164461632.py:14: DeprecationWarning: `np.int` is a deprecated alias for the builtin `int`. To silence this warning, use `int` by itself. Doing this will not modify any behavior and is safe. When replacing `np.int`, you may wish to use e.g. `np.int64` or `np.int32` to specify the precision. If you wish to review your current use, check the release note link for additional information.\n",
      "Deprecated in NumPy 1.20; for more details and guidance: https://numpy.org/devdocs/release/1.20.0-notes.html#deprecations\n",
      "  y_100 = np.full(X_100.shape[0], 2, dtype=np.int)\n",
      "C:\\Users\\angel\\AppData\\Local\\Temp\\ipykernel_18904\\4164461632.py:15: DeprecationWarning: `np.int` is a deprecated alias for the builtin `int`. To silence this warning, use `int` by itself. Doing this will not modify any behavior and is safe. When replacing `np.int`, you may wish to use e.g. `np.int64` or `np.int32` to specify the precision. If you wish to review your current use, check the release note link for additional information.\n",
      "Deprecated in NumPy 1.20; for more details and guidance: https://numpy.org/devdocs/release/1.20.0-notes.html#deprecations\n",
      "  y_200 = np.full(X_200.shape[0], 3, dtype=np.int)\n",
      "C:\\Users\\angel\\AppData\\Local\\Temp\\ipykernel_18904\\4164461632.py:16: DeprecationWarning: `np.int` is a deprecated alias for the builtin `int`. To silence this warning, use `int` by itself. Doing this will not modify any behavior and is safe. When replacing `np.int`, you may wish to use e.g. `np.int64` or `np.int32` to specify the precision. If you wish to review your current use, check the release note link for additional information.\n",
      "Deprecated in NumPy 1.20; for more details and guidance: https://numpy.org/devdocs/release/1.20.0-notes.html#deprecations\n",
      "  y_500 = np.full(X_500.shape[0], 4, dtype=np.int)\n"
     ]
    }
   ],
   "source": [
    "from sklearn.model_selection import train_test_split\n",
    "import numpy as np\n",
    "\n",
    "# combine the image data into a single array for each class\n",
    "X_020 = np.array(bills['MX020'])\n",
    "X_050 = np.array(bills['MX050'])\n",
    "X_100 = np.array(bills['MX100'])\n",
    "X_200 = np.array(bills['MX200'])\n",
    "X_500 = np.array(bills['MX500'])\n",
    "\n",
    "# create corresponding target arrays\n",
    "y_020 = np.zeros(X_020.shape[0], dtype=np.int)\n",
    "y_050 = np.ones(X_050.shape[0], dtype=np.int)\n",
    "y_100 = np.full(X_100.shape[0], 2, dtype=np.int)\n",
    "y_200 = np.full(X_200.shape[0], 3, dtype=np.int)\n",
    "y_500 = np.full(X_500.shape[0], 4, dtype=np.int)\n",
    "\n",
    "# concatenate the data and targets into a single array\n",
    "X = np.concatenate((X_020, X_050, X_100, X_200, X_500), axis=0)\n",
    "y = np.concatenate((y_020, y_050, y_100, y_200, y_500), axis=0)\n",
    "\n",
    "# split the data into training and test sets\n",
    "X_train, X_test, y_train, y_test = train_test_split(X, y, test_size=0.2, random_state=42)\n",
    "\n",
    "\n"
   ],
   "metadata": {
    "collapsed": false
   }
  },
  {
   "cell_type": "code",
   "execution_count": 30,
   "outputs": [
    {
     "ename": "AttributeError",
     "evalue": "'NoneType' object has no attribute 'image_data_format'",
     "output_type": "error",
     "traceback": [
      "\u001B[1;31m---------------------------------------------------------------------------\u001B[0m",
      "\u001B[1;31mAttributeError\u001B[0m                            Traceback (most recent call last)",
      "\u001B[1;32m~\\AppData\\Local\\Temp\\ipykernel_18904\\2174664484.py\u001B[0m in \u001B[0;36m<module>\u001B[1;34m\u001B[0m\n\u001B[0;32m      6\u001B[0m \u001B[1;31m#base_model = resnet50(weights='imagenet', include_top=False, input_shape=(224, 224, 3))\u001B[0m\u001B[1;33m\u001B[0m\u001B[1;33m\u001B[0m\u001B[0m\n\u001B[0;32m      7\u001B[0m \u001B[1;31m#base_model = resnet50.ResNet50(weights='imagenet', include_top=False)\u001B[0m\u001B[1;33m\u001B[0m\u001B[1;33m\u001B[0m\u001B[0m\n\u001B[1;32m----> 8\u001B[1;33m \u001B[0mbase_model\u001B[0m \u001B[1;33m=\u001B[0m \u001B[0mresnet50\u001B[0m\u001B[1;33m.\u001B[0m\u001B[0mResNet50\u001B[0m\u001B[1;33m(\u001B[0m\u001B[0mweights\u001B[0m\u001B[1;33m=\u001B[0m\u001B[1;34m'imagenet'\u001B[0m\u001B[1;33m,\u001B[0m \u001B[0minclude_top\u001B[0m\u001B[1;33m=\u001B[0m\u001B[1;32mFalse\u001B[0m\u001B[1;33m,\u001B[0m \u001B[0minput_shape\u001B[0m\u001B[1;33m=\u001B[0m\u001B[1;33m(\u001B[0m\u001B[1;36m224\u001B[0m\u001B[1;33m,\u001B[0m \u001B[1;36m224\u001B[0m\u001B[1;33m,\u001B[0m \u001B[1;36m3\u001B[0m\u001B[1;33m)\u001B[0m\u001B[1;33m)\u001B[0m\u001B[1;33m\u001B[0m\u001B[1;33m\u001B[0m\u001B[0m\n\u001B[0m\u001B[0;32m      9\u001B[0m \u001B[1;33m\u001B[0m\u001B[0m\n\u001B[0;32m     10\u001B[0m \u001B[1;31m# extract features from the training set\u001B[0m\u001B[1;33m\u001B[0m\u001B[1;33m\u001B[0m\u001B[0m\n",
      "\u001B[1;32m~\\anaconda3\\lib\\site-packages\\keras_applications\\resnet50.py\u001B[0m in \u001B[0;36mResNet50\u001B[1;34m(include_top, weights, input_tensor, input_shape, pooling, classes, **kwargs)\u001B[0m\n\u001B[0;32m    207\u001B[0m                                       \u001B[0mdefault_size\u001B[0m\u001B[1;33m=\u001B[0m\u001B[1;36m224\u001B[0m\u001B[1;33m,\u001B[0m\u001B[1;33m\u001B[0m\u001B[1;33m\u001B[0m\u001B[0m\n\u001B[0;32m    208\u001B[0m                                       \u001B[0mmin_size\u001B[0m\u001B[1;33m=\u001B[0m\u001B[1;36m32\u001B[0m\u001B[1;33m,\u001B[0m\u001B[1;33m\u001B[0m\u001B[1;33m\u001B[0m\u001B[0m\n\u001B[1;32m--> 209\u001B[1;33m                                       \u001B[0mdata_format\u001B[0m\u001B[1;33m=\u001B[0m\u001B[0mbackend\u001B[0m\u001B[1;33m.\u001B[0m\u001B[0mimage_data_format\u001B[0m\u001B[1;33m(\u001B[0m\u001B[1;33m)\u001B[0m\u001B[1;33m,\u001B[0m\u001B[1;33m\u001B[0m\u001B[1;33m\u001B[0m\u001B[0m\n\u001B[0m\u001B[0;32m    210\u001B[0m                                       \u001B[0mrequire_flatten\u001B[0m\u001B[1;33m=\u001B[0m\u001B[0minclude_top\u001B[0m\u001B[1;33m,\u001B[0m\u001B[1;33m\u001B[0m\u001B[1;33m\u001B[0m\u001B[0m\n\u001B[0;32m    211\u001B[0m                                       weights=weights)\n",
      "\u001B[1;31mAttributeError\u001B[0m: 'NoneType' object has no attribute 'image_data_format'"
     ]
    }
   ],
   "source": [
    "from keras_applications import resnet50\n",
    "from keras_applications.resnet50 import preprocess_input\n",
    "\n",
    "\n",
    "# create a ResNet50 model to extract features from the images\n",
    "#base_model = resnet50(weights='imagenet', include_top=False, input_shape=(224, 224, 3))\n",
    "#base_model = resnet50.ResNet50(weights='imagenet', include_top=False)\n",
    "base_model = resnet50.ResNet50(weights='imagenet', include_top=False, input_shape=(224, 224, 3))\n",
    "\n",
    "# extract features from the training set\n",
    "\n",
    "X_train_features = base_model.predict(preprocess_input(X_train))\n",
    "X_train_features = X_train_features.reshape(X_train_features.shape[0], -1)\n",
    "\n",
    "# extract features from the test set\n",
    "X_test_features = base_model.predict(preprocess_input(X_test))\n",
    "X_test_features = X_test_features.reshape(X_test_features.shape[0], -1)\n"
   ],
   "metadata": {
    "collapsed": false
   }
  },
  {
   "cell_type": "code",
   "execution_count": null,
   "outputs": [],
   "source": [
    "from sklearn.ensemble import RandomForestClassifier\n",
    "\n",
    "# create a RandomForestClassifier and fit it to the training data\n",
    "clf = RandomForestClassifier(n_estimators=100, random_state=42)\n",
    "clf.fit(X_train_features, y_train)\n"
   ],
   "metadata": {
    "collapsed": false
   }
  },
  {
   "cell_type": "code",
   "execution_count": null,
   "outputs": [],
   "source": [
    "from sklearn.metrics import accuracy_score, precision_score, recall_score, f1_score\n",
    "\n",
    "# make predictions on the test set and compute evaluation metrics\n",
    "y_pred = clf.predict(X_test_features)\n",
    "acc = accuracy_score(y_test, y_pred)\n",
    "precision = precision_score(y_test, y_pred, average='macro')\n",
    "recall = recall_score(y_test, y_pred, average='macro')\n",
    "f1 = f1_score(y_test, y_pred, average='macro')\n",
    "# print the evaluation metrics\n",
    "print(\"Accuracy: {:.4f}\".format(acc))\n",
    "print(\"Precision: {:.4f}\".format(precision))\n",
    "print(\"Recall: {:.4f}\".format(recall))\n",
    "print(\"F1 score: {:.4f}\".format(f1))\n"
   ],
   "metadata": {
    "collapsed": false
   }
  },
  {
   "cell_type": "code",
   "execution_count": null,
   "outputs": [],
   "source": [
    "import cv2\n",
    "import matplotlib.pyplot as plt\n",
    "\n",
    "# create a dictionary to map target values to bill denominations\n",
    "bill_names = {0: 'MX020', 1: 'MX050', 2: 'MX100', 3: 'MX200', 4: 'MX500'}\n",
    "cap = cv2.VideoCapture(0)\n",
    "# create a function to classify images from the webcam\n",
    "while True:\n",
    "    # capture an image from the webcam\n",
    "\n",
    "    ret, frame = cap.read()\n",
    "\n",
    "\n",
    "    # preprocess the image and extract features using the ResNet50 model\n",
    "    img = cv2.cvtColor(frame, cv2.COLOR_BGR2RGB)\n",
    "    img = cv2.resize(img, (224, 224))\n",
    "    x = np.expand_dims(img, axis=0)\n",
    "    x = preprocess_input(x)\n",
    "    features = base_model.predict(x)\n",
    "    features = features.reshape(features.shape[0], -1)\n",
    "\n",
    "    # make a prediction using the trained classifier\n",
    "    y_pred = clf.predict(features)[0]\n",
    "    bill_name = bill_names[y_pred]\n",
    "\n",
    "    # display the image and the predicted bill denomination\n",
    "    cv2.putText(frame, bill_name, (10, 30), cv2.FONT_HERSHEY_SIMPLEX, 1, (0, 255, 0), 2)\n",
    "    cv2.imshow('frame',frame)\n",
    "\n",
    "\n",
    "    if(cv2.waitKey(1) & 0xFF == ord('q')):\n",
    "        break\n",
    "\n",
    "cap.release()\n",
    "cv2.destroyAllWindows()\n"
   ],
   "metadata": {
    "collapsed": false
   }
  },
  {
   "cell_type": "code",
   "execution_count": null,
   "outputs": [],
   "source": [],
   "metadata": {
    "collapsed": false
   }
  }
 ],
 "metadata": {
  "kernelspec": {
   "display_name": "Python 3",
   "language": "python",
   "name": "python3"
  },
  "language_info": {
   "codemirror_mode": {
    "name": "ipython",
    "version": 2
   },
   "file_extension": ".py",
   "mimetype": "text/x-python",
   "name": "python",
   "nbconvert_exporter": "python",
   "pygments_lexer": "ipython2",
   "version": "2.7.6"
  }
 },
 "nbformat": 4,
 "nbformat_minor": 0
}
