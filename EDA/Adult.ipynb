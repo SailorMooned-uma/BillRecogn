{
 "cells": [
  {
   "cell_type": "code",
   "execution_count": 8,
   "metadata": {
    "collapsed": true
   },
   "outputs": [],
   "source": [
    "import numpy as pd\n",
    "import pandas as pd\n",
    "from sklearn import datasets\n",
    "import seaborn as sns\n",
    "import matplotlib.pyplot as plt\n",
    "import plotly.graph_objs as go\n",
    "import plotly.express as px\n",
    "from scipy.stats import entropy\n",
    "import numpy as np"
   ]
  },
  {
   "cell_type": "code",
   "execution_count": 4,
   "outputs": [
    {
     "name": "stdout",
     "output_type": "stream",
     "text": [
      "<class 'pandas.core.frame.DataFrame'>\n",
      "RangeIndex: 32561 entries, 0 to 32560\n",
      "Data columns (total 12 columns):\n",
      " #   Column          Non-Null Count  Dtype \n",
      "---  ------          --------------  ----- \n",
      " 0   age             32561 non-null  int64 \n",
      " 1   workclass       32561 non-null  object\n",
      " 2   education       32561 non-null  object\n",
      " 3   education-num   32561 non-null  int64 \n",
      " 4   marital-status  32561 non-null  object\n",
      " 5   occupation      32561 non-null  object\n",
      " 6   relationship    32561 non-null  object\n",
      " 7   race            32561 non-null  object\n",
      " 8   sex             32561 non-null  object\n",
      " 9   hours-per-week  32561 non-null  int64 \n",
      " 10  native-country  32561 non-null  object\n",
      " 11  income          32561 non-null  object\n",
      "dtypes: int64(3), object(9)\n",
      "memory usage: 3.0+ MB\n"
     ]
    }
   ],
   "source": [
    "df = pd.read_csv('adult.csv', encoding='ISO-8859-1')\n",
    "df.info()"
   ],
   "metadata": {
    "collapsed": false
   }
  },
  {
   "cell_type": "markdown",
   "source": [
    "### Entropy\n",
    "$$ H(x) = -\\sum_x P(x)log_2P(x) $$\n"
   ],
   "metadata": {
    "collapsed": false
   }
  },
  {
   "cell_type": "code",
   "execution_count": 9,
   "outputs": [
    {
     "name": "stdout",
     "output_type": "stream",
     "text": [
      "2.9313508978037115\n"
     ]
    }
   ],
   "source": [
    "ent = entropy(df['education'].value_counts(), base=2)\n",
    "print(ent)"
   ],
   "metadata": {
    "collapsed": false
   }
  },
  {
   "cell_type": "code",
   "execution_count": 10,
   "outputs": [],
   "source": [
    "def my_entropy(df):\n",
    "    val, cont = np.unique(df, return_counts=True)\n",
    "    p = cont/np.sum(cont)\n",
    "    plogp = np.log2(p)*p\n",
    "    h = -np.sum(plogp)\n",
    "    return h\n"
   ],
   "metadata": {
    "collapsed": false
   }
  },
  {
   "cell_type": "markdown",
   "source": [
    "\n",
    "### Mutual Information\n",
    "$$ IM(X,Y) = \\sum_x \\sum_y P(x,y) \\left| log_2 \\left  (\\frac{P(x,y)}{P(x)P(y)} \\right) \\right |$$"
   ],
   "metadata": {
    "collapsed": false
   }
  },
  {
   "cell_type": "code",
   "execution_count": 13,
   "outputs": [],
   "source": [
    "def my_mutual_information(X, Y):\n",
    "    n = len(X)\n",
    "    valx, contX = np.unique(X, return_counts=True)\n",
    "    valy, contY = np.unique(Y, return_counts=True)\n",
    "    px = contX/np.sum(contX)\n",
    "    py = contY/np.sum(contY)\n",
    "    im = 0\n",
    "    for ix, x in enumerate(valx):\n",
    "        for iy, y in enumerate(valy):\n",
    "            pxy = np.sum(np.logical_and(X==x, Y==y))\n",
    "            if pxy == 0: continue\n",
    "            pxy = pxy/n\n",
    "            im += pxy*np.log2(pxy/(px[ix]*py[iy]))\n",
    "            return im\n",
    "\n"
   ],
   "metadata": {
    "collapsed": false
   }
  },
  {
   "cell_type": "code",
   "execution_count": 14,
   "outputs": [
    {
     "name": "stdout",
     "output_type": "stream",
     "text": [
      "H(education) =  2.9313508978037115\n",
      "H(relationship) =  2.1544237955049743\n",
      "IM(education, relationship) =  -0.002617950007341875\n"
     ]
    }
   ],
   "source": [
    "df = pd.read_csv('adult.csv', encoding='ISO-8859-1')\n",
    "h = my_entropy(df['education'].values)\n",
    "h2 = my_entropy(df['relationship'].values)\n",
    "im = my_mutual_information(df['education'].values, df['relationship'].values)\n",
    "print('H(education) = ', h)\n",
    "print('H(relationship) = ', h2)\n",
    "print('IM(education, relationship) = ', im)\n"
   ],
   "metadata": {
    "collapsed": false
   }
  },
  {
   "cell_type": "code",
   "execution_count": 16,
   "outputs": [
    {
     "name": "stdout",
     "output_type": "stream",
     "text": [
      "H(education) =  2.9313508978037115\n",
      "H(relationship) =  2.154423795504974\n",
      "IM(education, relationship) =  0.054353269720570196\n"
     ]
    }
   ],
   "source": [
    "ent1 = entropy(df['education'].value_counts(), base=2)\n",
    "ent2 = entropy(df['relationship'].value_counts(), base=2)\n",
    "\n",
    "entropyjoint = entropy(pd.crosstab(df['education'], df['relationship']).values.flatten(), base=2)\n",
    "im = ent1 + ent2 - entropyjoint\n",
    "print('H(education) = ', ent1)\n",
    "print('H(relationship) = ', ent2)\n",
    "print('IM(education, relationship) = ', im)\n"
   ],
   "metadata": {
    "collapsed": false
   }
  },
  {
   "cell_type": "code",
   "execution_count": null,
   "outputs": [],
   "source": [],
   "metadata": {
    "collapsed": false
   }
  }
 ],
 "metadata": {
  "kernelspec": {
   "display_name": "Python 3",
   "language": "python",
   "name": "python3"
  },
  "language_info": {
   "codemirror_mode": {
    "name": "ipython",
    "version": 2
   },
   "file_extension": ".py",
   "mimetype": "text/x-python",
   "name": "python",
   "nbconvert_exporter": "python",
   "pygments_lexer": "ipython2",
   "version": "2.7.6"
  }
 },
 "nbformat": 4,
 "nbformat_minor": 0
}
