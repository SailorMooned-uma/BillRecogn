{
 "cells": [
  {
   "cell_type": "code",
   "execution_count": 54,
   "metadata": {
    "collapsed": true
   },
   "outputs": [],
   "source": [
    "import numpy as np\n",
    "import pandas as pd\n",
    "import seaborn as sns\n",
    "import matplotlib.pyplot as plt\n",
    "import pandas\n",
    "from sklearn import datasets\n",
    "import seaborn as sns\n",
    "import matplotlib.pyplot as plt\n",
    "from sklearn.decomposition import PCA\n",
    "from sklearn.discriminant_analysis import LinearDiscriminantAnalysis\n",
    "from sklearn.manifold import MDS\n",
    "from sklearn.preprocessing import StandardScaler"
   ]
  },
  {
   "cell_type": "code",
   "execution_count": 55,
   "outputs": [],
   "source": [
    "def clean_dataset(df):\n",
    "    assert isinstance(df, pd.DataFrame), \"df needs to be a pd.DataFrame\"\n",
    "    df.dropna(inplace=True)\n",
    "    indices_to_keep = ~df.isin([np.nan, np.inf, -np.inf]).any(axis=1)\n",
    "    return df[indices_to_keep].astype(np.float64)"
   ],
   "metadata": {
    "collapsed": false
   }
  },
  {
   "cell_type": "code",
   "execution_count": 56,
   "outputs": [
    {
     "name": "stdout",
     "output_type": "stream",
     "text": [
      "<class 'pandas.core.frame.DataFrame'>\n",
      "RangeIndex: 943 entries, 0 to 942\n",
      "Data columns (total 4 columns):\n",
      " #   Column      Non-Null Count  Dtype \n",
      "---  ------      --------------  ----- \n",
      " 0   id          943 non-null    int64 \n",
      " 1   age         943 non-null    int64 \n",
      " 2   sex         943 non-null    object\n",
      " 3   profession  943 non-null    object\n",
      "dtypes: int64(2), object(2)\n",
      "memory usage: 29.6+ KB\n"
     ]
    }
   ],
   "source": [
    "client_df = pd.read_csv('Clientes_descripcion.txt',delimiter='|',header=None)\n",
    "movies_df = pd.read_csv('Peliculas_descripcion.txt', delimiter='|', header=None)\n",
    "rating_df = pd.read_csv('Peliculas_Clientes.txt', delim_whitespace=True, header=None)\n",
    "\n",
    "client_df = client_df.drop(client_df.iloc[:,4:5], axis=1)\n",
    "movies_df = movies_df.drop(movies_df.iloc[:,3:5], axis=1)\n",
    "movies_df = movies_df.drop(movies_df.iloc[:,3:], axis=1)\n",
    "rating_df = rating_df.drop(rating_df.iloc[:,3:4], axis=1)\n",
    "\n",
    "client_columns = ['id','age','sex','profession']\n",
    "client_df.columns = client_columns\n",
    "\n",
    "movies_columns = ['id','name','release_date']\n",
    "movies_df.columns = movies_columns\n",
    "\n",
    "rating_columns = ['user_id','movie_id','rating']\n",
    "rating_df.columns = rating_columns\n",
    "\n",
    "client_df.info()"
   ],
   "metadata": {
    "collapsed": false
   }
  },
  {
   "cell_type": "code",
   "execution_count": 57,
   "outputs": [
    {
     "data": {
      "text/plain": "user_id                                    1    2    3    4    5    6    7    \\\nname                                                                           \nToy Story (1995)                           5.0  4.0  NaN  NaN  4.0  4.0  NaN   \nGoldenEye (1995)                           3.0  NaN  NaN  NaN  3.0  NaN  NaN   \nFour Rooms (1995)                          4.0  NaN  NaN  NaN  NaN  NaN  NaN   \nGet Shorty (1995)                          3.0  NaN  NaN  NaN  NaN  NaN  5.0   \nCopycat (1995)                             3.0  NaN  NaN  NaN  NaN  NaN  NaN   \n...                                        ...  ...  ...  ...  ...  ...  ...   \nMat' i syn (1997)                          NaN  NaN  NaN  NaN  NaN  NaN  NaN   \nB. Monkey (1998)                           NaN  NaN  NaN  NaN  NaN  NaN  NaN   \nSliding Doors (1998)                       NaN  NaN  NaN  NaN  NaN  NaN  NaN   \nYou So Crazy (1994)                        NaN  NaN  NaN  NaN  NaN  NaN  NaN   \nScream of Stone (Schrei aus Stein) (1991)  NaN  NaN  NaN  NaN  NaN  NaN  NaN   \n\nuser_id                                    8    9    10   ...  934  935  936  \\\nname                                                      ...                  \nToy Story (1995)                           NaN  NaN  4.0  ...  2.0  3.0  4.0   \nGoldenEye (1995)                           NaN  NaN  NaN  ...  4.0  NaN  NaN   \nFour Rooms (1995)                          NaN  NaN  NaN  ...  NaN  NaN  4.0   \nGet Shorty (1995)                          NaN  NaN  4.0  ...  5.0  NaN  NaN   \nCopycat (1995)                             NaN  NaN  NaN  ...  NaN  NaN  NaN   \n...                                        ...  ...  ...  ...  ...  ...  ...   \nMat' i syn (1997)                          NaN  NaN  NaN  ...  NaN  NaN  NaN   \nB. Monkey (1998)                           NaN  NaN  NaN  ...  NaN  NaN  NaN   \nSliding Doors (1998)                       NaN  NaN  NaN  ...  NaN  NaN  NaN   \nYou So Crazy (1994)                        NaN  NaN  NaN  ...  NaN  NaN  NaN   \nScream of Stone (Schrei aus Stein) (1991)  NaN  NaN  NaN  ...  NaN  NaN  NaN   \n\nuser_id                                    937  938  939  940  941  942  943  \nname                                                                          \nToy Story (1995)                           NaN  4.0  NaN  NaN  5.0  NaN  NaN  \nGoldenEye (1995)                           NaN  NaN  NaN  NaN  NaN  NaN  5.0  \nFour Rooms (1995)                          NaN  NaN  NaN  NaN  NaN  NaN  NaN  \nGet Shorty (1995)                          NaN  NaN  NaN  2.0  NaN  NaN  NaN  \nCopycat (1995)                             NaN  NaN  NaN  NaN  NaN  NaN  NaN  \n...                                        ...  ...  ...  ...  ...  ...  ...  \nMat' i syn (1997)                          NaN  NaN  NaN  NaN  NaN  NaN  NaN  \nB. Monkey (1998)                           NaN  NaN  NaN  NaN  NaN  NaN  NaN  \nSliding Doors (1998)                       NaN  NaN  NaN  NaN  NaN  NaN  NaN  \nYou So Crazy (1994)                        NaN  NaN  NaN  NaN  NaN  NaN  NaN  \nScream of Stone (Schrei aus Stein) (1991)  NaN  NaN  NaN  NaN  NaN  NaN  NaN  \n\n[1682 rows x 943 columns]",
      "text/html": "<div>\n<style scoped>\n    .dataframe tbody tr th:only-of-type {\n        vertical-align: middle;\n    }\n\n    .dataframe tbody tr th {\n        vertical-align: top;\n    }\n\n    .dataframe thead th {\n        text-align: right;\n    }\n</style>\n<table border=\"1\" class=\"dataframe\">\n  <thead>\n    <tr style=\"text-align: right;\">\n      <th>user_id</th>\n      <th>1</th>\n      <th>2</th>\n      <th>3</th>\n      <th>4</th>\n      <th>5</th>\n      <th>6</th>\n      <th>7</th>\n      <th>8</th>\n      <th>9</th>\n      <th>10</th>\n      <th>...</th>\n      <th>934</th>\n      <th>935</th>\n      <th>936</th>\n      <th>937</th>\n      <th>938</th>\n      <th>939</th>\n      <th>940</th>\n      <th>941</th>\n      <th>942</th>\n      <th>943</th>\n    </tr>\n    <tr>\n      <th>name</th>\n      <th></th>\n      <th></th>\n      <th></th>\n      <th></th>\n      <th></th>\n      <th></th>\n      <th></th>\n      <th></th>\n      <th></th>\n      <th></th>\n      <th></th>\n      <th></th>\n      <th></th>\n      <th></th>\n      <th></th>\n      <th></th>\n      <th></th>\n      <th></th>\n      <th></th>\n      <th></th>\n      <th></th>\n    </tr>\n  </thead>\n  <tbody>\n    <tr>\n      <th>Toy Story (1995)</th>\n      <td>5.0</td>\n      <td>4.0</td>\n      <td>NaN</td>\n      <td>NaN</td>\n      <td>4.0</td>\n      <td>4.0</td>\n      <td>NaN</td>\n      <td>NaN</td>\n      <td>NaN</td>\n      <td>4.0</td>\n      <td>...</td>\n      <td>2.0</td>\n      <td>3.0</td>\n      <td>4.0</td>\n      <td>NaN</td>\n      <td>4.0</td>\n      <td>NaN</td>\n      <td>NaN</td>\n      <td>5.0</td>\n      <td>NaN</td>\n      <td>NaN</td>\n    </tr>\n    <tr>\n      <th>GoldenEye (1995)</th>\n      <td>3.0</td>\n      <td>NaN</td>\n      <td>NaN</td>\n      <td>NaN</td>\n      <td>3.0</td>\n      <td>NaN</td>\n      <td>NaN</td>\n      <td>NaN</td>\n      <td>NaN</td>\n      <td>NaN</td>\n      <td>...</td>\n      <td>4.0</td>\n      <td>NaN</td>\n      <td>NaN</td>\n      <td>NaN</td>\n      <td>NaN</td>\n      <td>NaN</td>\n      <td>NaN</td>\n      <td>NaN</td>\n      <td>NaN</td>\n      <td>5.0</td>\n    </tr>\n    <tr>\n      <th>Four Rooms (1995)</th>\n      <td>4.0</td>\n      <td>NaN</td>\n      <td>NaN</td>\n      <td>NaN</td>\n      <td>NaN</td>\n      <td>NaN</td>\n      <td>NaN</td>\n      <td>NaN</td>\n      <td>NaN</td>\n      <td>NaN</td>\n      <td>...</td>\n      <td>NaN</td>\n      <td>NaN</td>\n      <td>4.0</td>\n      <td>NaN</td>\n      <td>NaN</td>\n      <td>NaN</td>\n      <td>NaN</td>\n      <td>NaN</td>\n      <td>NaN</td>\n      <td>NaN</td>\n    </tr>\n    <tr>\n      <th>Get Shorty (1995)</th>\n      <td>3.0</td>\n      <td>NaN</td>\n      <td>NaN</td>\n      <td>NaN</td>\n      <td>NaN</td>\n      <td>NaN</td>\n      <td>5.0</td>\n      <td>NaN</td>\n      <td>NaN</td>\n      <td>4.0</td>\n      <td>...</td>\n      <td>5.0</td>\n      <td>NaN</td>\n      <td>NaN</td>\n      <td>NaN</td>\n      <td>NaN</td>\n      <td>NaN</td>\n      <td>2.0</td>\n      <td>NaN</td>\n      <td>NaN</td>\n      <td>NaN</td>\n    </tr>\n    <tr>\n      <th>Copycat (1995)</th>\n      <td>3.0</td>\n      <td>NaN</td>\n      <td>NaN</td>\n      <td>NaN</td>\n      <td>NaN</td>\n      <td>NaN</td>\n      <td>NaN</td>\n      <td>NaN</td>\n      <td>NaN</td>\n      <td>NaN</td>\n      <td>...</td>\n      <td>NaN</td>\n      <td>NaN</td>\n      <td>NaN</td>\n      <td>NaN</td>\n      <td>NaN</td>\n      <td>NaN</td>\n      <td>NaN</td>\n      <td>NaN</td>\n      <td>NaN</td>\n      <td>NaN</td>\n    </tr>\n    <tr>\n      <th>...</th>\n      <td>...</td>\n      <td>...</td>\n      <td>...</td>\n      <td>...</td>\n      <td>...</td>\n      <td>...</td>\n      <td>...</td>\n      <td>...</td>\n      <td>...</td>\n      <td>...</td>\n      <td>...</td>\n      <td>...</td>\n      <td>...</td>\n      <td>...</td>\n      <td>...</td>\n      <td>...</td>\n      <td>...</td>\n      <td>...</td>\n      <td>...</td>\n      <td>...</td>\n      <td>...</td>\n    </tr>\n    <tr>\n      <th>Mat' i syn (1997)</th>\n      <td>NaN</td>\n      <td>NaN</td>\n      <td>NaN</td>\n      <td>NaN</td>\n      <td>NaN</td>\n      <td>NaN</td>\n      <td>NaN</td>\n      <td>NaN</td>\n      <td>NaN</td>\n      <td>NaN</td>\n      <td>...</td>\n      <td>NaN</td>\n      <td>NaN</td>\n      <td>NaN</td>\n      <td>NaN</td>\n      <td>NaN</td>\n      <td>NaN</td>\n      <td>NaN</td>\n      <td>NaN</td>\n      <td>NaN</td>\n      <td>NaN</td>\n    </tr>\n    <tr>\n      <th>B. Monkey (1998)</th>\n      <td>NaN</td>\n      <td>NaN</td>\n      <td>NaN</td>\n      <td>NaN</td>\n      <td>NaN</td>\n      <td>NaN</td>\n      <td>NaN</td>\n      <td>NaN</td>\n      <td>NaN</td>\n      <td>NaN</td>\n      <td>...</td>\n      <td>NaN</td>\n      <td>NaN</td>\n      <td>NaN</td>\n      <td>NaN</td>\n      <td>NaN</td>\n      <td>NaN</td>\n      <td>NaN</td>\n      <td>NaN</td>\n      <td>NaN</td>\n      <td>NaN</td>\n    </tr>\n    <tr>\n      <th>Sliding Doors (1998)</th>\n      <td>NaN</td>\n      <td>NaN</td>\n      <td>NaN</td>\n      <td>NaN</td>\n      <td>NaN</td>\n      <td>NaN</td>\n      <td>NaN</td>\n      <td>NaN</td>\n      <td>NaN</td>\n      <td>NaN</td>\n      <td>...</td>\n      <td>NaN</td>\n      <td>NaN</td>\n      <td>NaN</td>\n      <td>NaN</td>\n      <td>NaN</td>\n      <td>NaN</td>\n      <td>NaN</td>\n      <td>NaN</td>\n      <td>NaN</td>\n      <td>NaN</td>\n    </tr>\n    <tr>\n      <th>You So Crazy (1994)</th>\n      <td>NaN</td>\n      <td>NaN</td>\n      <td>NaN</td>\n      <td>NaN</td>\n      <td>NaN</td>\n      <td>NaN</td>\n      <td>NaN</td>\n      <td>NaN</td>\n      <td>NaN</td>\n      <td>NaN</td>\n      <td>...</td>\n      <td>NaN</td>\n      <td>NaN</td>\n      <td>NaN</td>\n      <td>NaN</td>\n      <td>NaN</td>\n      <td>NaN</td>\n      <td>NaN</td>\n      <td>NaN</td>\n      <td>NaN</td>\n      <td>NaN</td>\n    </tr>\n    <tr>\n      <th>Scream of Stone (Schrei aus Stein) (1991)</th>\n      <td>NaN</td>\n      <td>NaN</td>\n      <td>NaN</td>\n      <td>NaN</td>\n      <td>NaN</td>\n      <td>NaN</td>\n      <td>NaN</td>\n      <td>NaN</td>\n      <td>NaN</td>\n      <td>NaN</td>\n      <td>...</td>\n      <td>NaN</td>\n      <td>NaN</td>\n      <td>NaN</td>\n      <td>NaN</td>\n      <td>NaN</td>\n      <td>NaN</td>\n      <td>NaN</td>\n      <td>NaN</td>\n      <td>NaN</td>\n      <td>NaN</td>\n    </tr>\n  </tbody>\n</table>\n<p>1682 rows × 943 columns</p>\n</div>"
     },
     "execution_count": 57,
     "metadata": {},
     "output_type": "execute_result"
    }
   ],
   "source": [
    "rating_matrix = rating_df.pivot_table(index='movie_id', columns='user_id', values='rating')\n",
    "\n",
    "rating_matrix.index = movies_df.set_index('id')['name']\n",
    "rating_matrix\n"
   ],
   "metadata": {
    "collapsed": false
   }
  },
  {
   "cell_type": "code",
   "execution_count": 58,
   "outputs": [
    {
     "data": {
      "text/plain": "name\nStar Wars (1977)                                      583\nContact (1997)                                        509\nFargo (1996)                                          508\nReturn of the Jedi (1983)                             507\nLiar Liar (1997)                                      485\n                                                     ... \nHungarian Fairy Tale, A (1987)                          1\nDeath in the Garden (Mort en ce jardin, La) (1956)      1\nEvery Other Weekend (1990)                              1\nBaton Rouge (1988)                                      1\nScream of Stone (Schrei aus Stein) (1991)               1\nLength: 1682, dtype: int64"
     },
     "execution_count": 58,
     "metadata": {},
     "output_type": "execute_result"
    }
   ],
   "source": [
    "evalMovie = rating_matrix.apply(lambda x: x.count(), axis=1)\n",
    "evalMovie = evalMovie.sort_values(ascending=False)\n",
    "evalMovie"
   ],
   "metadata": {
    "collapsed": false
   }
  },
  {
   "cell_type": "code",
   "execution_count": 59,
   "outputs": [
    {
     "data": {
      "text/plain": "user_id\n405    737\n655    685\n13     636\n450    540\n276    518\n      ... \n685     20\n475     20\n36      20\n732     20\n596     20\nLength: 943, dtype: int64"
     },
     "execution_count": 59,
     "metadata": {},
     "output_type": "execute_result"
    }
   ],
   "source": [
    "evalUser = rating_matrix.apply(lambda x: x.count(), axis=0)\n",
    "evalUser = evalUser.sort_values(ascending=False)\n",
    "evalUser"
   ],
   "metadata": {
    "collapsed": false
   }
  },
  {
   "cell_type": "code",
   "execution_count": 60,
   "outputs": [
    {
     "ename": "ValueError",
     "evalue": "Input contains NaN, infinity or a value too large for dtype('float64').",
     "output_type": "error",
     "traceback": [
      "\u001B[1;31m---------------------------------------------------------------------------\u001B[0m",
      "\u001B[1;31mValueError\u001B[0m                                Traceback (most recent call last)",
      "\u001B[1;32m~\\AppData\\Local\\Temp\\ipykernel_19128\\1183664880.py\u001B[0m in \u001B[0;36m<module>\u001B[1;34m\u001B[0m\n\u001B[0;32m      7\u001B[0m \u001B[1;33m\u001B[0m\u001B[0m\n\u001B[0;32m      8\u001B[0m \u001B[0mpca\u001B[0m \u001B[1;33m=\u001B[0m \u001B[0mPCA\u001B[0m\u001B[1;33m(\u001B[0m\u001B[1;33m)\u001B[0m\u001B[1;33m\u001B[0m\u001B[1;33m\u001B[0m\u001B[0m\n\u001B[1;32m----> 9\u001B[1;33m \u001B[0mpca\u001B[0m\u001B[1;33m.\u001B[0m\u001B[0mfit_transform\u001B[0m\u001B[1;33m(\u001B[0m\u001B[0mrating_matrix\u001B[0m\u001B[1;33m)\u001B[0m\u001B[1;33m\u001B[0m\u001B[1;33m\u001B[0m\u001B[0m\n\u001B[0m\u001B[0;32m     10\u001B[0m \u001B[1;33m\u001B[0m\u001B[0m\n\u001B[0;32m     11\u001B[0m \u001B[0mpca\u001B[0m\u001B[1;33m.\u001B[0m\u001B[0mn_components_\u001B[0m \u001B[1;33m=\u001B[0m  \u001B[1;36m50\u001B[0m\u001B[1;33m\u001B[0m\u001B[1;33m\u001B[0m\u001B[0m\n",
      "\u001B[1;32m~\\anaconda3\\lib\\site-packages\\sklearn\\decomposition\\_pca.py\u001B[0m in \u001B[0;36mfit_transform\u001B[1;34m(self, X, y)\u001B[0m\n\u001B[0;32m    405\u001B[0m         \u001B[0mC\u001B[0m\u001B[1;33m-\u001B[0m\u001B[0mordered\u001B[0m \u001B[0marray\u001B[0m\u001B[1;33m,\u001B[0m \u001B[0muse\u001B[0m \u001B[1;34m'np.ascontiguousarray'\u001B[0m\u001B[1;33m.\u001B[0m\u001B[1;33m\u001B[0m\u001B[1;33m\u001B[0m\u001B[0m\n\u001B[0;32m    406\u001B[0m         \"\"\"\n\u001B[1;32m--> 407\u001B[1;33m         \u001B[0mU\u001B[0m\u001B[1;33m,\u001B[0m \u001B[0mS\u001B[0m\u001B[1;33m,\u001B[0m \u001B[0mVt\u001B[0m \u001B[1;33m=\u001B[0m \u001B[0mself\u001B[0m\u001B[1;33m.\u001B[0m\u001B[0m_fit\u001B[0m\u001B[1;33m(\u001B[0m\u001B[0mX\u001B[0m\u001B[1;33m)\u001B[0m\u001B[1;33m\u001B[0m\u001B[1;33m\u001B[0m\u001B[0m\n\u001B[0m\u001B[0;32m    408\u001B[0m         \u001B[0mU\u001B[0m \u001B[1;33m=\u001B[0m \u001B[0mU\u001B[0m\u001B[1;33m[\u001B[0m\u001B[1;33m:\u001B[0m\u001B[1;33m,\u001B[0m \u001B[1;33m:\u001B[0m \u001B[0mself\u001B[0m\u001B[1;33m.\u001B[0m\u001B[0mn_components_\u001B[0m\u001B[1;33m]\u001B[0m\u001B[1;33m\u001B[0m\u001B[1;33m\u001B[0m\u001B[0m\n\u001B[0;32m    409\u001B[0m \u001B[1;33m\u001B[0m\u001B[0m\n",
      "\u001B[1;32m~\\anaconda3\\lib\\site-packages\\sklearn\\decomposition\\_pca.py\u001B[0m in \u001B[0;36m_fit\u001B[1;34m(self, X)\u001B[0m\n\u001B[0;32m    428\u001B[0m             )\n\u001B[0;32m    429\u001B[0m \u001B[1;33m\u001B[0m\u001B[0m\n\u001B[1;32m--> 430\u001B[1;33m         X = self._validate_data(\n\u001B[0m\u001B[0;32m    431\u001B[0m             \u001B[0mX\u001B[0m\u001B[1;33m,\u001B[0m \u001B[0mdtype\u001B[0m\u001B[1;33m=\u001B[0m\u001B[1;33m[\u001B[0m\u001B[0mnp\u001B[0m\u001B[1;33m.\u001B[0m\u001B[0mfloat64\u001B[0m\u001B[1;33m,\u001B[0m \u001B[0mnp\u001B[0m\u001B[1;33m.\u001B[0m\u001B[0mfloat32\u001B[0m\u001B[1;33m]\u001B[0m\u001B[1;33m,\u001B[0m \u001B[0mensure_2d\u001B[0m\u001B[1;33m=\u001B[0m\u001B[1;32mTrue\u001B[0m\u001B[1;33m,\u001B[0m \u001B[0mcopy\u001B[0m\u001B[1;33m=\u001B[0m\u001B[0mself\u001B[0m\u001B[1;33m.\u001B[0m\u001B[0mcopy\u001B[0m\u001B[1;33m\u001B[0m\u001B[1;33m\u001B[0m\u001B[0m\n\u001B[0;32m    432\u001B[0m         )\n",
      "\u001B[1;32m~\\anaconda3\\lib\\site-packages\\sklearn\\base.py\u001B[0m in \u001B[0;36m_validate_data\u001B[1;34m(self, X, y, reset, validate_separately, **check_params)\u001B[0m\n\u001B[0;32m    564\u001B[0m             \u001B[1;32mraise\u001B[0m \u001B[0mValueError\u001B[0m\u001B[1;33m(\u001B[0m\u001B[1;34m\"Validation should be done on X, y or both.\"\u001B[0m\u001B[1;33m)\u001B[0m\u001B[1;33m\u001B[0m\u001B[1;33m\u001B[0m\u001B[0m\n\u001B[0;32m    565\u001B[0m         \u001B[1;32melif\u001B[0m \u001B[1;32mnot\u001B[0m \u001B[0mno_val_X\u001B[0m \u001B[1;32mand\u001B[0m \u001B[0mno_val_y\u001B[0m\u001B[1;33m:\u001B[0m\u001B[1;33m\u001B[0m\u001B[1;33m\u001B[0m\u001B[0m\n\u001B[1;32m--> 566\u001B[1;33m             \u001B[0mX\u001B[0m \u001B[1;33m=\u001B[0m \u001B[0mcheck_array\u001B[0m\u001B[1;33m(\u001B[0m\u001B[0mX\u001B[0m\u001B[1;33m,\u001B[0m \u001B[1;33m**\u001B[0m\u001B[0mcheck_params\u001B[0m\u001B[1;33m)\u001B[0m\u001B[1;33m\u001B[0m\u001B[1;33m\u001B[0m\u001B[0m\n\u001B[0m\u001B[0;32m    567\u001B[0m             \u001B[0mout\u001B[0m \u001B[1;33m=\u001B[0m \u001B[0mX\u001B[0m\u001B[1;33m\u001B[0m\u001B[1;33m\u001B[0m\u001B[0m\n\u001B[0;32m    568\u001B[0m         \u001B[1;32melif\u001B[0m \u001B[0mno_val_X\u001B[0m \u001B[1;32mand\u001B[0m \u001B[1;32mnot\u001B[0m \u001B[0mno_val_y\u001B[0m\u001B[1;33m:\u001B[0m\u001B[1;33m\u001B[0m\u001B[1;33m\u001B[0m\u001B[0m\n",
      "\u001B[1;32m~\\anaconda3\\lib\\site-packages\\sklearn\\utils\\validation.py\u001B[0m in \u001B[0;36mcheck_array\u001B[1;34m(array, accept_sparse, accept_large_sparse, dtype, order, copy, force_all_finite, ensure_2d, allow_nd, ensure_min_samples, ensure_min_features, estimator)\u001B[0m\n\u001B[0;32m    798\u001B[0m \u001B[1;33m\u001B[0m\u001B[0m\n\u001B[0;32m    799\u001B[0m         \u001B[1;32mif\u001B[0m \u001B[0mforce_all_finite\u001B[0m\u001B[1;33m:\u001B[0m\u001B[1;33m\u001B[0m\u001B[1;33m\u001B[0m\u001B[0m\n\u001B[1;32m--> 800\u001B[1;33m             \u001B[0m_assert_all_finite\u001B[0m\u001B[1;33m(\u001B[0m\u001B[0marray\u001B[0m\u001B[1;33m,\u001B[0m \u001B[0mallow_nan\u001B[0m\u001B[1;33m=\u001B[0m\u001B[0mforce_all_finite\u001B[0m \u001B[1;33m==\u001B[0m \u001B[1;34m\"allow-nan\"\u001B[0m\u001B[1;33m)\u001B[0m\u001B[1;33m\u001B[0m\u001B[1;33m\u001B[0m\u001B[0m\n\u001B[0m\u001B[0;32m    801\u001B[0m \u001B[1;33m\u001B[0m\u001B[0m\n\u001B[0;32m    802\u001B[0m     \u001B[1;32mif\u001B[0m \u001B[0mensure_min_samples\u001B[0m \u001B[1;33m>\u001B[0m \u001B[1;36m0\u001B[0m\u001B[1;33m:\u001B[0m\u001B[1;33m\u001B[0m\u001B[1;33m\u001B[0m\u001B[0m\n",
      "\u001B[1;32m~\\anaconda3\\lib\\site-packages\\sklearn\\utils\\validation.py\u001B[0m in \u001B[0;36m_assert_all_finite\u001B[1;34m(X, allow_nan, msg_dtype)\u001B[0m\n\u001B[0;32m    112\u001B[0m         ):\n\u001B[0;32m    113\u001B[0m             \u001B[0mtype_err\u001B[0m \u001B[1;33m=\u001B[0m \u001B[1;34m\"infinity\"\u001B[0m \u001B[1;32mif\u001B[0m \u001B[0mallow_nan\u001B[0m \u001B[1;32melse\u001B[0m \u001B[1;34m\"NaN, infinity\"\u001B[0m\u001B[1;33m\u001B[0m\u001B[1;33m\u001B[0m\u001B[0m\n\u001B[1;32m--> 114\u001B[1;33m             raise ValueError(\n\u001B[0m\u001B[0;32m    115\u001B[0m                 msg_err.format(\n\u001B[0;32m    116\u001B[0m                     \u001B[0mtype_err\u001B[0m\u001B[1;33m,\u001B[0m \u001B[0mmsg_dtype\u001B[0m \u001B[1;32mif\u001B[0m \u001B[0mmsg_dtype\u001B[0m \u001B[1;32mis\u001B[0m \u001B[1;32mnot\u001B[0m \u001B[1;32mNone\u001B[0m \u001B[1;32melse\u001B[0m \u001B[0mX\u001B[0m\u001B[1;33m.\u001B[0m\u001B[0mdtype\u001B[0m\u001B[1;33m\u001B[0m\u001B[1;33m\u001B[0m\u001B[0m\n",
      "\u001B[1;31mValueError\u001B[0m: Input contains NaN, infinity or a value too large for dtype('float64')."
     ]
    }
   ],
   "source": [
    "#1. Filtrar las películas y usuarios para quedarnos sólo con:\n",
    "#50 películas (las 50 que tengan mayor número de evaluaciones)\n",
    "\n",
    "\n",
    "scaler = StandardScaler()\n",
    "scaler.fit_transform(rating_matrix)\n",
    "\n",
    "pca = PCA()\n",
    "pca.fit_transform(rating_matrix)\n",
    "\n",
    "pca.n_components_ =  50\n",
    "\n",
    "\n",
    "#100 usuarios (los 100 que hayan realizado el mayor número de evaluaciones)\n",
    "\n",
    "\n",
    "\n"
   ],
   "metadata": {
    "collapsed": false
   }
  },
  {
   "cell_type": "code",
   "execution_count": null,
   "outputs": [],
   "source": [],
   "metadata": {
    "collapsed": false
   }
  }
 ],
 "metadata": {
  "kernelspec": {
   "display_name": "Python 3",
   "language": "python",
   "name": "python3"
  },
  "language_info": {
   "codemirror_mode": {
    "name": "ipython",
    "version": 2
   },
   "file_extension": ".py",
   "mimetype": "text/x-python",
   "name": "python",
   "nbconvert_exporter": "python",
   "pygments_lexer": "ipython2",
   "version": "2.7.6"
  }
 },
 "nbformat": 4,
 "nbformat_minor": 0
}
