{
 "cells": [
  {
   "cell_type": "code",
   "execution_count": 7,
   "metadata": {
    "collapsed": true
   },
   "outputs": [],
   "source": [
    "import numpy as np\n",
    "from scipy.stats import mode\n",
    "import statistics\n",
    "import pandas as pd\n",
    "from sklearn import datasets\n",
    "import seaborn as sns\n",
    "import matplotlib.pyplot as plt\n",
    "from sklearn.model_selection import train_test_split\n",
    "from sklearn.neighbors import KNeighborsClassifier\n",
    "from sklearn.neighbors import NearestCentroid\n",
    "from sklearn.metrics import accuracy_score,recall_score,precision_score,f1_score,confusion_matrix"
   ]
  },
  {
   "cell_type": "code",
   "execution_count": 8,
   "outputs": [],
   "source": [
    "#load data\n",
    "X,y = datasets.load_digits(return_X_y=True)\n",
    "X_train,X_test,y_train,y_test = train_test_split(X,y,test_size=0.3,random_state=42)"
   ],
   "metadata": {
    "collapsed": false
   }
  },
  {
   "cell_type": "code",
   "execution_count": 12,
   "outputs": [
    {
     "name": "stdout",
     "output_type": "stream",
     "text": [
      "Accuracy:  0.8888888888888888\n"
     ]
    }
   ],
   "source": [
    "model = NearestCentroid()\n",
    "model.fit(X_train,y_train)\n",
    "y_pred = model.predict(X_test)\n",
    "print(\"Accuracy: \",accuracy_score(y_test,y_pred))"
   ],
   "metadata": {
    "collapsed": false
   }
  },
  {
   "cell_type": "code",
   "execution_count": 10,
   "outputs": [],
   "source": [
    "class KNN:\n",
    "    def __init__(self):\n",
    "        self.Xtrain = None\n",
    "        self.Ytrain = None\n",
    "        self.k = 5\n",
    "    def fit(self,Xtrain,Ytrain):\n",
    "        self.Xtrain = Xtrain\n",
    "        self.Ytrain = Ytrain\n",
    "    def predict(self,Xtest):\n",
    "        ntrain = len(self.Xtrain)\n",
    "        ntest = len(Xtest)\n",
    "        ypred = np.zeros((ntest),int)\n",
    "        for i,xtest in enumerate(Xtest):\n",
    "            mdist = np.zeros((ntrain))\n",
    "        for j,xtrain in enumerate(self.Xtrain):\n",
    "            mdist[j] = np.linalg.norm(xtest-xtrain)\n",
    "        idx = np.argsort(mdist)\n",
    "        ypred[i] = mode(self.Ytrain[idx])\n",
    "        return ypred"
   ],
   "metadata": {
    "collapsed": false
   }
  },
  {
   "cell_type": "code",
   "execution_count": 13,
   "outputs": [],
   "source": [
    "#Method for nearest centroid\n",
    "class NC:\n",
    "    def __init__(self):\n",
    "        self.centroids = None\n",
    "\n",
    "    def fit(self, X, y):\n",
    "        # Compute the centroid for each class\n",
    "        classes = np.unique(y)\n",
    "        self.centroids = np.zeros((len(classes), X.shape[1]))\n",
    "        for i, c in enumerate(classes):\n",
    "            self.centroids[i] = np.mean(X[y == c], axis=0)\n",
    "\n",
    "    def predict(self, X):\n",
    "        # Predict the class for each test example based on the nearest centroid\n",
    "        y_pred = np.zeros((X.shape[0],))\n",
    "        for i, x in enumerate(X):\n",
    "            distances = np.sum((self.centroids - x)**2, axis=1)\n",
    "            y_pred[i] = np.argmin(distances)\n",
    "        return y_pred\n",
    "\n"
   ],
   "metadata": {
    "collapsed": false
   }
  },
  {
   "cell_type": "code",
   "execution_count": 14,
   "outputs": [
    {
     "name": "stdout",
     "output_type": "stream",
     "text": [
      "Accuracy:  0.8888888888888888\n"
     ]
    }
   ],
   "source": [
    "model = NC()\n",
    "model.fit(X_train,y_train)\n",
    "y_pred = model.predict(X_test)\n",
    "print(\"Accuracy: \",accuracy_score(y_test,y_pred))"
   ],
   "metadata": {
    "collapsed": false
   }
  },
  {
   "cell_type": "code",
   "execution_count": null,
   "outputs": [],
   "source": [],
   "metadata": {
    "collapsed": false
   }
  }
 ],
 "metadata": {
  "kernelspec": {
   "display_name": "Python 3",
   "language": "python",
   "name": "python3"
  },
  "language_info": {
   "codemirror_mode": {
    "name": "ipython",
    "version": 2
   },
   "file_extension": ".py",
   "mimetype": "text/x-python",
   "name": "python",
   "nbconvert_exporter": "python",
   "pygments_lexer": "ipython2",
   "version": "2.7.6"
  }
 },
 "nbformat": 4,
 "nbformat_minor": 0
}
